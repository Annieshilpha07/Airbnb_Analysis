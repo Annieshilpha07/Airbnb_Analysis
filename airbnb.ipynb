{
 "cells": [
  {
   "cell_type": "code",
   "execution_count": 42,
   "metadata": {},
   "outputs": [],
   "source": [
    "import pandas as pd\n",
    "import seaborn as sns\n",
    "import plotly.express as px\n",
    "import matplotlib.pyplot as plt\n",
    "import mysql.connector"
   ]
  },
  {
   "cell_type": "code",
   "execution_count": 2,
   "metadata": {},
   "outputs": [],
   "source": [
    "# Read in the dataset\n",
    "airbnb = pd.read_json(\"sample_airbnb.json\")"
   ]
  },
  {
   "cell_type": "code",
   "execution_count": null,
   "metadata": {},
   "outputs": [],
   "source": [
    "airbnb"
   ]
  },
  {
   "cell_type": "code",
   "execution_count": 6,
   "metadata": {},
   "outputs": [],
   "source": [
    "# Transform Airbnb DataFrame into a list of dictionaries\n",
    "\n",
    "airbnb_data = []\n",
    "for i, row in airbnb.iterrows():\n",
    "    data = dict(Id=row['_id'],\n",
    "                Listing_url=row['listing_url'],\n",
    "                Name=row['name'],\n",
    "                Property_type=row['property_type'],\n",
    "                Room_type=row['room_type'],\n",
    "                Min_nights=int(row['minimum_nights']),\n",
    "                Max_nights=int(row['maximum_nights']),\n",
    "                Cancellation_policy=row['cancellation_policy'],\n",
    "                Accommodates=row['accommodates'],\n",
    "                Total_bedrooms=row.get('bedrooms'),\n",
    "                Total_beds=row.get('beds'),\n",
    "                Availability_365=row['availability']['availability_365'],\n",
    "                Price=row['price'],\n",
    "                Security_deposit=row.get('security_deposit'),\n",
    "                Cleaning_fee=row.get('cleaning_fee'),\n",
    "                Guests_included=row['guests_included'],\n",
    "                No_of_reviews=row['number_of_reviews'],\n",
    "                Review_scores=row['review_scores'].get('review_scores_rating'),\n",
    "                Amenities=', '.join(row['amenities']),\n",
    "                Host_id=row['host']['host_id'],\n",
    "                Host_name=row['host']['host_name'],\n",
    "                Country=row['address']['country'],\n",
    "                Longitude=row['address']['location']['coordinates'][0],\n",
    "                Latitude=row['address']['location']['coordinates'][1],\n",
    "                Is_location_exact=row['address']['location']['is_location_exact']\n",
    "                )\n",
    "    airbnb_data.append(data)"
   ]
  },
  {
   "cell_type": "code",
   "execution_count": 9,
   "metadata": {},
   "outputs": [
    {
     "data": {
      "text/html": [
       "<div>\n",
       "<style scoped>\n",
       "    .dataframe tbody tr th:only-of-type {\n",
       "        vertical-align: middle;\n",
       "    }\n",
       "\n",
       "    .dataframe tbody tr th {\n",
       "        vertical-align: top;\n",
       "    }\n",
       "\n",
       "    .dataframe thead th {\n",
       "        text-align: right;\n",
       "    }\n",
       "</style>\n",
       "<table border=\"1\" class=\"dataframe\">\n",
       "  <thead>\n",
       "    <tr style=\"text-align: right;\">\n",
       "      <th></th>\n",
       "      <th>Id</th>\n",
       "      <th>Listing_url</th>\n",
       "      <th>Name</th>\n",
       "      <th>Property_type</th>\n",
       "      <th>Room_type</th>\n",
       "      <th>Min_nights</th>\n",
       "      <th>Max_nights</th>\n",
       "      <th>Cancellation_policy</th>\n",
       "      <th>Accommodates</th>\n",
       "      <th>Total_bedrooms</th>\n",
       "      <th>...</th>\n",
       "      <th>Guests_included</th>\n",
       "      <th>No_of_reviews</th>\n",
       "      <th>Review_scores</th>\n",
       "      <th>Amenities</th>\n",
       "      <th>Host_id</th>\n",
       "      <th>Host_name</th>\n",
       "      <th>Country</th>\n",
       "      <th>Longitude</th>\n",
       "      <th>Latitude</th>\n",
       "      <th>Is_location_exact</th>\n",
       "    </tr>\n",
       "  </thead>\n",
       "  <tbody>\n",
       "    <tr>\n",
       "      <th>0</th>\n",
       "      <td>1003530</td>\n",
       "      <td>https://www.airbnb.com/rooms/1003530</td>\n",
       "      <td>New York City - Upper West Side Apt</td>\n",
       "      <td>Apartment</td>\n",
       "      <td>Private room</td>\n",
       "      <td>12</td>\n",
       "      <td>360</td>\n",
       "      <td>strict_14_with_grace_period</td>\n",
       "      <td>2</td>\n",
       "      <td>1.0</td>\n",
       "      <td>...</td>\n",
       "      <td>1</td>\n",
       "      <td>70</td>\n",
       "      <td>94.0</td>\n",
       "      <td>Internet, Wifi, Air conditioning, Kitchen, Ele...</td>\n",
       "      <td>454250</td>\n",
       "      <td>Greta</td>\n",
       "      <td>United States</td>\n",
       "      <td>-73.965230</td>\n",
       "      <td>40.799620</td>\n",
       "      <td>False</td>\n",
       "    </tr>\n",
       "    <tr>\n",
       "      <th>1</th>\n",
       "      <td>10133554</td>\n",
       "      <td>https://www.airbnb.com/rooms/10133554</td>\n",
       "      <td>Double and triple rooms Blue mosque</td>\n",
       "      <td>Bed and breakfast</td>\n",
       "      <td>Private room</td>\n",
       "      <td>1</td>\n",
       "      <td>1125</td>\n",
       "      <td>moderate</td>\n",
       "      <td>3</td>\n",
       "      <td>1.0</td>\n",
       "      <td>...</td>\n",
       "      <td>1</td>\n",
       "      <td>29</td>\n",
       "      <td>92.0</td>\n",
       "      <td>Internet, Wifi, Air conditioning, Free parking...</td>\n",
       "      <td>52004703</td>\n",
       "      <td>Mehmet Emin</td>\n",
       "      <td>Turkey</td>\n",
       "      <td>28.980090</td>\n",
       "      <td>41.006200</td>\n",
       "      <td>False</td>\n",
       "    </tr>\n",
       "    <tr>\n",
       "      <th>2</th>\n",
       "      <td>10059872</td>\n",
       "      <td>https://www.airbnb.com/rooms/10059872</td>\n",
       "      <td>Soho Cozy, Spacious and Convenient</td>\n",
       "      <td>Apartment</td>\n",
       "      <td>Entire home/apt</td>\n",
       "      <td>4</td>\n",
       "      <td>20</td>\n",
       "      <td>flexible</td>\n",
       "      <td>3</td>\n",
       "      <td>1.0</td>\n",
       "      <td>...</td>\n",
       "      <td>1</td>\n",
       "      <td>3</td>\n",
       "      <td>100.0</td>\n",
       "      <td>Air conditioning, Kitchen, Smoking allowed, Do...</td>\n",
       "      <td>51624384</td>\n",
       "      <td>Giovanni</td>\n",
       "      <td>Hong Kong</td>\n",
       "      <td>114.150270</td>\n",
       "      <td>22.281580</td>\n",
       "      <td>True</td>\n",
       "    </tr>\n",
       "    <tr>\n",
       "      <th>3</th>\n",
       "      <td>10084023</td>\n",
       "      <td>https://www.airbnb.com/rooms/10084023</td>\n",
       "      <td>City center private room with bed</td>\n",
       "      <td>Guesthouse</td>\n",
       "      <td>Private room</td>\n",
       "      <td>1</td>\n",
       "      <td>500</td>\n",
       "      <td>strict_14_with_grace_period</td>\n",
       "      <td>1</td>\n",
       "      <td>1.0</td>\n",
       "      <td>...</td>\n",
       "      <td>1</td>\n",
       "      <td>81</td>\n",
       "      <td>92.0</td>\n",
       "      <td>TV, Wifi, Air conditioning, Kitchen, Elevator,...</td>\n",
       "      <td>51744313</td>\n",
       "      <td>Yi</td>\n",
       "      <td>Hong Kong</td>\n",
       "      <td>114.166900</td>\n",
       "      <td>22.331400</td>\n",
       "      <td>True</td>\n",
       "    </tr>\n",
       "    <tr>\n",
       "      <th>4</th>\n",
       "      <td>10091713</td>\n",
       "      <td>https://www.airbnb.com/rooms/10091713</td>\n",
       "      <td>Surry Hills Studio - Your Perfect Base in Sydney</td>\n",
       "      <td>Apartment</td>\n",
       "      <td>Entire home/apt</td>\n",
       "      <td>10</td>\n",
       "      <td>21</td>\n",
       "      <td>strict_14_with_grace_period</td>\n",
       "      <td>2</td>\n",
       "      <td>0.0</td>\n",
       "      <td>...</td>\n",
       "      <td>1</td>\n",
       "      <td>64</td>\n",
       "      <td>95.0</td>\n",
       "      <td>TV, Wifi, Kitchen, Elevator, Heating, Washer, ...</td>\n",
       "      <td>13764143</td>\n",
       "      <td>Ben</td>\n",
       "      <td>Australia</td>\n",
       "      <td>151.215540</td>\n",
       "      <td>-33.880290</td>\n",
       "      <td>True</td>\n",
       "    </tr>\n",
       "    <tr>\n",
       "      <th>...</th>\n",
       "      <td>...</td>\n",
       "      <td>...</td>\n",
       "      <td>...</td>\n",
       "      <td>...</td>\n",
       "      <td>...</td>\n",
       "      <td>...</td>\n",
       "      <td>...</td>\n",
       "      <td>...</td>\n",
       "      <td>...</td>\n",
       "      <td>...</td>\n",
       "      <td>...</td>\n",
       "      <td>...</td>\n",
       "      <td>...</td>\n",
       "      <td>...</td>\n",
       "      <td>...</td>\n",
       "      <td>...</td>\n",
       "      <td>...</td>\n",
       "      <td>...</td>\n",
       "      <td>...</td>\n",
       "      <td>...</td>\n",
       "      <td>...</td>\n",
       "    </tr>\n",
       "    <tr>\n",
       "      <th>5550</th>\n",
       "      <td>9985696</td>\n",
       "      <td>https://www.airbnb.com/rooms/9985696</td>\n",
       "      <td>Kadıköy-Altıyol</td>\n",
       "      <td>House</td>\n",
       "      <td>Entire home/apt</td>\n",
       "      <td>1</td>\n",
       "      <td>1125</td>\n",
       "      <td>flexible</td>\n",
       "      <td>2</td>\n",
       "      <td>2.0</td>\n",
       "      <td>...</td>\n",
       "      <td>1</td>\n",
       "      <td>0</td>\n",
       "      <td>NaN</td>\n",
       "      <td>TV, Cable TV, Internet, Wifi, Kitchen, Buzzer/...</td>\n",
       "      <td>51303748</td>\n",
       "      <td>Eren</td>\n",
       "      <td>Turkey</td>\n",
       "      <td>29.030790</td>\n",
       "      <td>40.985630</td>\n",
       "      <td>False</td>\n",
       "    </tr>\n",
       "    <tr>\n",
       "      <th>5551</th>\n",
       "      <td>9993190</td>\n",
       "      <td>https://www.airbnb.com/rooms/9993190</td>\n",
       "      <td>Just Steps from the Ocean at Premier Platinum ...</td>\n",
       "      <td>Townhouse</td>\n",
       "      <td>Entire home/apt</td>\n",
       "      <td>3</td>\n",
       "      <td>365</td>\n",
       "      <td>strict_14_with_grace_period</td>\n",
       "      <td>6</td>\n",
       "      <td>2.0</td>\n",
       "      <td>...</td>\n",
       "      <td>1</td>\n",
       "      <td>15</td>\n",
       "      <td>92.0</td>\n",
       "      <td>TV, Wifi, Air conditioning, Pool, Kitchen, Fre...</td>\n",
       "      <td>51013381</td>\n",
       "      <td>Coconut Condos</td>\n",
       "      <td>United States</td>\n",
       "      <td>-156.667520</td>\n",
       "      <td>20.858940</td>\n",
       "      <td>False</td>\n",
       "    </tr>\n",
       "    <tr>\n",
       "      <th>5552</th>\n",
       "      <td>9887054</td>\n",
       "      <td>https://www.airbnb.com/rooms/9887054</td>\n",
       "      <td>Quarry Bay fully furnished studio C</td>\n",
       "      <td>Apartment</td>\n",
       "      <td>Private room</td>\n",
       "      <td>3</td>\n",
       "      <td>1125</td>\n",
       "      <td>flexible</td>\n",
       "      <td>1</td>\n",
       "      <td>1.0</td>\n",
       "      <td>...</td>\n",
       "      <td>2</td>\n",
       "      <td>4</td>\n",
       "      <td>85.0</td>\n",
       "      <td>TV, Wifi, Air conditioning, Kitchen, Elevator,...</td>\n",
       "      <td>31386255</td>\n",
       "      <td>Cat</td>\n",
       "      <td>Hong Kong</td>\n",
       "      <td>114.207220</td>\n",
       "      <td>22.291570</td>\n",
       "      <td>False</td>\n",
       "    </tr>\n",
       "    <tr>\n",
       "      <th>5553</th>\n",
       "      <td>9907907</td>\n",
       "      <td>https://www.airbnb.com/rooms/9907907</td>\n",
       "      <td>Large double room in Bondi</td>\n",
       "      <td>Apartment</td>\n",
       "      <td>Private room</td>\n",
       "      <td>3</td>\n",
       "      <td>1125</td>\n",
       "      <td>moderate</td>\n",
       "      <td>2</td>\n",
       "      <td>1.0</td>\n",
       "      <td>...</td>\n",
       "      <td>2</td>\n",
       "      <td>0</td>\n",
       "      <td>NaN</td>\n",
       "      <td>TV, Internet, Wifi, Kitchen, Washer, Dryer, Sm...</td>\n",
       "      <td>47615848</td>\n",
       "      <td>Lucy</td>\n",
       "      <td>Australia</td>\n",
       "      <td>151.265420</td>\n",
       "      <td>-33.892980</td>\n",
       "      <td>False</td>\n",
       "    </tr>\n",
       "    <tr>\n",
       "      <th>5554</th>\n",
       "      <td>9936016</td>\n",
       "      <td>https://www.airbnb.com/rooms/9936016</td>\n",
       "      <td>Alugo Apartamento na Tijuca</td>\n",
       "      <td>Apartment</td>\n",
       "      <td>Entire home/apt</td>\n",
       "      <td>1</td>\n",
       "      <td>1125</td>\n",
       "      <td>flexible</td>\n",
       "      <td>6</td>\n",
       "      <td>1.0</td>\n",
       "      <td>...</td>\n",
       "      <td>1</td>\n",
       "      <td>0</td>\n",
       "      <td>NaN</td>\n",
       "      <td>TV, Cable TV, Internet, Wifi, Air conditioning...</td>\n",
       "      <td>47092481</td>\n",
       "      <td>Aliane</td>\n",
       "      <td>Brazil</td>\n",
       "      <td>-43.173761</td>\n",
       "      <td>-22.908336</td>\n",
       "      <td>False</td>\n",
       "    </tr>\n",
       "  </tbody>\n",
       "</table>\n",
       "<p>5555 rows × 25 columns</p>\n",
       "</div>"
      ],
      "text/plain": [
       "            Id                            Listing_url  \\\n",
       "0      1003530   https://www.airbnb.com/rooms/1003530   \n",
       "1     10133554  https://www.airbnb.com/rooms/10133554   \n",
       "2     10059872  https://www.airbnb.com/rooms/10059872   \n",
       "3     10084023  https://www.airbnb.com/rooms/10084023   \n",
       "4     10091713  https://www.airbnb.com/rooms/10091713   \n",
       "...        ...                                    ...   \n",
       "5550   9985696   https://www.airbnb.com/rooms/9985696   \n",
       "5551   9993190   https://www.airbnb.com/rooms/9993190   \n",
       "5552   9887054   https://www.airbnb.com/rooms/9887054   \n",
       "5553   9907907   https://www.airbnb.com/rooms/9907907   \n",
       "5554   9936016   https://www.airbnb.com/rooms/9936016   \n",
       "\n",
       "                                                   Name      Property_type  \\\n",
       "0                   New York City - Upper West Side Apt          Apartment   \n",
       "1                   Double and triple rooms Blue mosque  Bed and breakfast   \n",
       "2                    Soho Cozy, Spacious and Convenient          Apartment   \n",
       "3                     City center private room with bed         Guesthouse   \n",
       "4      Surry Hills Studio - Your Perfect Base in Sydney          Apartment   \n",
       "...                                                 ...                ...   \n",
       "5550                                    Kadıköy-Altıyol              House   \n",
       "5551  Just Steps from the Ocean at Premier Platinum ...          Townhouse   \n",
       "5552                Quarry Bay fully furnished studio C          Apartment   \n",
       "5553                         Large double room in Bondi          Apartment   \n",
       "5554                        Alugo Apartamento na Tijuca          Apartment   \n",
       "\n",
       "            Room_type  Min_nights  Max_nights          Cancellation_policy  \\\n",
       "0        Private room          12         360  strict_14_with_grace_period   \n",
       "1        Private room           1        1125                     moderate   \n",
       "2     Entire home/apt           4          20                     flexible   \n",
       "3        Private room           1         500  strict_14_with_grace_period   \n",
       "4     Entire home/apt          10          21  strict_14_with_grace_period   \n",
       "...               ...         ...         ...                          ...   \n",
       "5550  Entire home/apt           1        1125                     flexible   \n",
       "5551  Entire home/apt           3         365  strict_14_with_grace_period   \n",
       "5552     Private room           3        1125                     flexible   \n",
       "5553     Private room           3        1125                     moderate   \n",
       "5554  Entire home/apt           1        1125                     flexible   \n",
       "\n",
       "      Accommodates  Total_bedrooms  ...  Guests_included  No_of_reviews  \\\n",
       "0                2             1.0  ...                1             70   \n",
       "1                3             1.0  ...                1             29   \n",
       "2                3             1.0  ...                1              3   \n",
       "3                1             1.0  ...                1             81   \n",
       "4                2             0.0  ...                1             64   \n",
       "...            ...             ...  ...              ...            ...   \n",
       "5550             2             2.0  ...                1              0   \n",
       "5551             6             2.0  ...                1             15   \n",
       "5552             1             1.0  ...                2              4   \n",
       "5553             2             1.0  ...                2              0   \n",
       "5554             6             1.0  ...                1              0   \n",
       "\n",
       "      Review_scores                                          Amenities  \\\n",
       "0              94.0  Internet, Wifi, Air conditioning, Kitchen, Ele...   \n",
       "1              92.0  Internet, Wifi, Air conditioning, Free parking...   \n",
       "2             100.0  Air conditioning, Kitchen, Smoking allowed, Do...   \n",
       "3              92.0  TV, Wifi, Air conditioning, Kitchen, Elevator,...   \n",
       "4              95.0  TV, Wifi, Kitchen, Elevator, Heating, Washer, ...   \n",
       "...             ...                                                ...   \n",
       "5550            NaN  TV, Cable TV, Internet, Wifi, Kitchen, Buzzer/...   \n",
       "5551           92.0  TV, Wifi, Air conditioning, Pool, Kitchen, Fre...   \n",
       "5552           85.0  TV, Wifi, Air conditioning, Kitchen, Elevator,...   \n",
       "5553            NaN  TV, Internet, Wifi, Kitchen, Washer, Dryer, Sm...   \n",
       "5554            NaN  TV, Cable TV, Internet, Wifi, Air conditioning...   \n",
       "\n",
       "       Host_id       Host_name        Country   Longitude   Latitude  \\\n",
       "0       454250           Greta  United States  -73.965230  40.799620   \n",
       "1     52004703     Mehmet Emin         Turkey   28.980090  41.006200   \n",
       "2     51624384        Giovanni      Hong Kong  114.150270  22.281580   \n",
       "3     51744313              Yi      Hong Kong  114.166900  22.331400   \n",
       "4     13764143             Ben      Australia  151.215540 -33.880290   \n",
       "...        ...             ...            ...         ...        ...   \n",
       "5550  51303748            Eren         Turkey   29.030790  40.985630   \n",
       "5551  51013381  Coconut Condos  United States -156.667520  20.858940   \n",
       "5552  31386255             Cat      Hong Kong  114.207220  22.291570   \n",
       "5553  47615848            Lucy      Australia  151.265420 -33.892980   \n",
       "5554  47092481          Aliane         Brazil  -43.173761 -22.908336   \n",
       "\n",
       "     Is_location_exact  \n",
       "0                False  \n",
       "1                False  \n",
       "2                 True  \n",
       "3                 True  \n",
       "4                 True  \n",
       "...                ...  \n",
       "5550             False  \n",
       "5551             False  \n",
       "5552             False  \n",
       "5553             False  \n",
       "5554             False  \n",
       "\n",
       "[5555 rows x 25 columns]"
      ]
     },
     "execution_count": 9,
     "metadata": {},
     "output_type": "execute_result"
    }
   ],
   "source": [
    "df=pd.DataFrame(airbnb_data)\n",
    "df"
   ]
  },
  {
   "cell_type": "code",
   "execution_count": 10,
   "metadata": {},
   "outputs": [
    {
     "data": {
      "text/plain": [
       "Index(['Id', 'Listing_url', 'Name', 'Property_type', 'Room_type', 'Min_nights',\n",
       "       'Max_nights', 'Cancellation_policy', 'Accommodates', 'Total_bedrooms',\n",
       "       'Total_beds', 'Availability_365', 'Price', 'Security_deposit',\n",
       "       'Cleaning_fee', 'Guests_included', 'No_of_reviews', 'Review_scores',\n",
       "       'Amenities', 'Host_id', 'Host_name', 'Country', 'Longitude', 'Latitude',\n",
       "       'Is_location_exact'],\n",
       "      dtype='object')"
      ]
     },
     "execution_count": 10,
     "metadata": {},
     "output_type": "execute_result"
    }
   ],
   "source": [
    "df.columns"
   ]
  },
  {
   "cell_type": "code",
   "execution_count": 11,
   "metadata": {},
   "outputs": [
    {
     "name": "stdout",
     "output_type": "stream",
     "text": [
      "<class 'pandas.core.frame.DataFrame'>\n",
      "RangeIndex: 5555 entries, 0 to 5554\n",
      "Data columns (total 25 columns):\n",
      " #   Column               Non-Null Count  Dtype  \n",
      "---  ------               --------------  -----  \n",
      " 0   Id                   5555 non-null   int64  \n",
      " 1   Listing_url          5555 non-null   object \n",
      " 2   Name                 5555 non-null   object \n",
      " 3   Property_type        5555 non-null   object \n",
      " 4   Room_type            5555 non-null   object \n",
      " 5   Min_nights           5555 non-null   int64  \n",
      " 6   Max_nights           5555 non-null   int64  \n",
      " 7   Cancellation_policy  5555 non-null   object \n",
      " 8   Accommodates         5555 non-null   int64  \n",
      " 9   Total_bedrooms       5550 non-null   float64\n",
      " 10  Total_beds           5542 non-null   float64\n",
      " 11  Availability_365     5555 non-null   int64  \n",
      " 12  Price                5555 non-null   int64  \n",
      " 13  Security_deposit     3471 non-null   float64\n",
      " 14  Cleaning_fee         4024 non-null   float64\n",
      " 15  Guests_included      5555 non-null   int64  \n",
      " 16  No_of_reviews        5555 non-null   int64  \n",
      " 17  Review_scores        4081 non-null   float64\n",
      " 18  Amenities            5555 non-null   object \n",
      " 19  Host_id              5555 non-null   object \n",
      " 20  Host_name            5555 non-null   object \n",
      " 21  Country              5555 non-null   object \n",
      " 22  Longitude            5555 non-null   float64\n",
      " 23  Latitude             5555 non-null   float64\n",
      " 24  Is_location_exact    5555 non-null   bool   \n",
      "dtypes: bool(1), float64(7), int64(8), object(9)\n",
      "memory usage: 1.0+ MB\n"
     ]
    }
   ],
   "source": [
    "df.info()"
   ]
  },
  {
   "cell_type": "code",
   "execution_count": 12,
   "metadata": {},
   "outputs": [],
   "source": [
    "# Handling missing values\n",
    "df['Name'] = df['Name'].fillna('Unknown')\n",
    "#df['House_rules'] = df['House_rules'].fillna('No house rules available')\n",
    "df['Host_name'] = df['Host_name'].fillna('Unknown')\n",
    "#df['Amenities'] =  df['Amenities'].fillna('Not available')"
   ]
  },
  {
   "cell_type": "code",
   "execution_count": 13,
   "metadata": {},
   "outputs": [],
   "source": [
    "df['Amenities']= df['Amenities'].replace('', 'Not available')\n",
    "df['Amenities']= df['Amenities'].fillna('Not available')"
   ]
  },
  {
   "cell_type": "code",
   "execution_count": 14,
   "metadata": {},
   "outputs": [],
   "source": [
    "# Assuming '0' for missing values in Price, Extra_people, and Guests_included\n",
    "df['Price'] = df['Price'].fillna(0).astype(int)\n",
    "df['Guests_included'] = df['Guests_included'].fillna(0).astype(int)\n",
    "\n",
    "# Converting columns to float after handling missing values\n",
    "df['Security_deposit'] = df['Security_deposit'].fillna(0).astype(int)\n",
    "df['Cleaning_fee'] = df['Cleaning_fee'].fillna(0).astype(int)\n",
    "df['Total_beds'] = df['Total_beds'].fillna(0).astype(int)\n",
    "df['Total_bedrooms'] = df['Total_bedrooms'].fillna(0).astype(int)\n",
    "\n",
    "# Imputing missing values for Total_beds and Total_bedrooms and Review_Scores with median\n",
    "median_review_scores = df['Review_scores'].median()\n",
    "df['Review_scores'] = df['Review_scores'].fillna(median_review_scores)"
   ]
  },
  {
   "cell_type": "code",
   "execution_count": null,
   "metadata": {},
   "outputs": [],
   "source": [
    "df.info()"
   ]
  },
  {
   "cell_type": "code",
   "execution_count": 16,
   "metadata": {},
   "outputs": [
    {
     "data": {
      "text/plain": [
       "Id                     0\n",
       "Listing_url            0\n",
       "Name                   0\n",
       "Property_type          0\n",
       "Room_type              0\n",
       "Min_nights             0\n",
       "Max_nights             0\n",
       "Cancellation_policy    0\n",
       "Accommodates           0\n",
       "Total_bedrooms         0\n",
       "Total_beds             0\n",
       "Availability_365       0\n",
       "Price                  0\n",
       "Security_deposit       0\n",
       "Cleaning_fee           0\n",
       "Guests_included        0\n",
       "No_of_reviews          0\n",
       "Review_scores          0\n",
       "Amenities              0\n",
       "Host_id                0\n",
       "Host_name              0\n",
       "Country                0\n",
       "Longitude              0\n",
       "Latitude               0\n",
       "Is_location_exact      0\n",
       "dtype: int64"
      ]
     },
     "execution_count": 16,
     "metadata": {},
     "output_type": "execute_result"
    }
   ],
   "source": [
    "df.isna().sum()"
   ]
  },
  {
   "cell_type": "code",
   "execution_count": 17,
   "metadata": {},
   "outputs": [],
   "source": [
    "df.to_csv('Airbnb_data.csv',index=False)"
   ]
  },
  {
   "cell_type": "markdown",
   "metadata": {},
   "source": [
    "# Exploratory Data Analysis"
   ]
  },
  {
   "cell_type": "code",
   "execution_count": 23,
   "metadata": {},
   "outputs": [
    {
     "name": "stderr",
     "output_type": "stream",
     "text": [
      "C:\\Users\\Dell\\AppData\\Local\\Temp\\ipykernel_5740\\76281392.py:2: FutureWarning: \n",
      "\n",
      "Passing `palette` without assigning `hue` is deprecated and will be removed in v0.14.0. Assign the `y` variable to `hue` and set `legend=False` for the same effect.\n",
      "\n",
      "  ax = sns.barplot(y=df['Property_type'].value_counts().head(10).index,\n"
     ]
    },
    {
     "data": {
      "image/png": "[encoded data removed]",
      "text/plain": [
       "<Figure size 1000x800 with 1 Axes>"
      ]
     },
     "metadata": {},
     "output_type": "display_data"
    }
   ],
   "source": [
    "plt.figure(figsize=(10, 8))\n",
    "ax = sns.barplot(y=df['Property_type'].value_counts().head(10).index,\n",
    "                 x=df['Property_type'].value_counts().head(10),\n",
    "                 palette='muted')\n",
    "\n",
    "# Add annotations\n",
    "for p in ax.patches:\n",
    "    width = p.get_width()\n",
    "    ax.text(width + 50, p.get_y() + p.get_height() / 2,\n",
    "            '{:1.0f}'.format(width),\n",
    "            ha='center', va='center', fontsize=10, color='black')\n",
    "\n",
    "ax.set_title(\"Top 10 Property Types Available\")\n",
    "ax.set_ylabel(\"Property Type\")\n",
    "ax.set_xlabel(\"Count\")\n",
    "\n",
    "plt.show()"
   ]
  },
  {
   "cell_type": "code",
   "execution_count": 26,
   "metadata": {},
   "outputs": [
    {
     "data": {
      "image/png": "[encoded data removed]",
      "text/plain": [
       "<Figure size 800x600 with 1 Axes>"
      ]
     },
     "metadata": {},
     "output_type": "display_data"
    }
   ],
   "source": [
    "plt.figure(figsize=(8, 6))\n",
    "ax = sns.countplot(data=df, x='Room_type', hue='Room_type', dodge=False, palette='Set2', legend=False)\n",
    "\n",
    "# Add annotations\n",
    "for p in ax.patches:\n",
    "    ax.annotate(f'{p.get_height()}', \n",
    "                (p.get_x() + p.get_width() / 2., p.get_height()), \n",
    "                ha='center', va='center', fontsize=8, color='black', xytext=(0, 5), \n",
    "                textcoords='offset points')\n",
    "\n",
    "ax.set_title(\"Total Listings by Room Type\")\n",
    "ax.set_xlabel(\"Room Type\")\n",
    "ax.set_ylabel(\"Count\")\n",
    "\n",
    "plt.tight_layout()\n",
    "plt.show()\n",
    "\n"
   ]
  },
  {
   "cell_type": "code",
   "execution_count": 27,
   "metadata": {},
   "outputs": [
    {
     "name": "stderr",
     "output_type": "stream",
     "text": [
      "C:\\Users\\Dell\\AppData\\Local\\Temp\\ipykernel_5740\\2324006894.py:2: FutureWarning: \n",
      "\n",
      "Passing `palette` without assigning `hue` is deprecated and will be removed in v0.14.0. Assign the `y` variable to `hue` and set `legend=False` for the same effect.\n",
      "\n",
      "  ax = sns.countplot(data=df, y='Host_name', order=df['Host_name'].value_counts().index[:10], palette='viridis')\n"
     ]
    },
    {
     "data": {
      "image/png": "[encoded data removed]",
      "text/plain": [
       "<Figure size 1000x800 with 1 Axes>"
      ]
     },
     "metadata": {},
     "output_type": "display_data"
    }
   ],
   "source": [
    "plt.figure(figsize=(10, 8))\n",
    "ax = sns.countplot(data=df, y='Host_name', order=df['Host_name'].value_counts().index[:10], palette='viridis')\n",
    "ax.set_title(\"Top 10 Hosts with Highest Number of Listings\")\n",
    "ax.set_ylabel(\"Host Name\")\n",
    "ax.set_xlabel(\"Number of Listings\")\n",
    "\n",
    "plt.show()\n"
   ]
  },
  {
   "cell_type": "code",
   "execution_count": 28,
   "metadata": {},
   "outputs": [
    {
     "name": "stdout",
     "output_type": "stream",
     "text": [
      "Index(['Id', 'Listing_url', 'Name', 'Property_type', 'Room_type', 'Min_nights',\n",
      "       'Max_nights', 'Cancellation_policy', 'Accommodates', 'Total_bedrooms',\n",
      "       'Total_beds', 'Availability_365', 'Price', 'Security_deposit',\n",
      "       'Cleaning_fee', 'Guests_included', 'No_of_reviews', 'Review_scores',\n",
      "       'Amenities', 'Host_id', 'Host_name', 'Country', 'Longitude', 'Latitude',\n",
      "       'Is_location_exact'],\n",
      "      dtype='object')\n"
     ]
    }
   ],
   "source": [
    "print(df.columns)"
   ]
  },
  {
   "cell_type": "code",
   "execution_count": 29,
   "metadata": {},
   "outputs": [
    {
     "data": {
      "text/plain": [
       "Host_name\n",
       "Maria       37\n",
       "David       26\n",
       "Ana         21\n",
       "Sarah       20\n",
       "Jov         18\n",
       "            ..\n",
       "Yuk Ping     1\n",
       "Javed        1\n",
       "Stefan       1\n",
       "Shan         1\n",
       "Aliane       1\n",
       "Name: count, Length: 3140, dtype: int64"
      ]
     },
     "execution_count": 29,
     "metadata": {},
     "output_type": "execute_result"
    }
   ],
   "source": [
    "# top 10 Hosts with Highest number of listings\n",
    "df.Host_name.value_counts()"
   ]
  },
  {
   "cell_type": "code",
   "execution_count": 33,
   "metadata": {},
   "outputs": [
    {
     "data": {
      "image/png": "[encoded data removed]",
      "text/plain": [
       "<Figure size 1200x800 with 1 Axes>"
      ]
     },
     "metadata": {},
     "output_type": "display_data"
    }
   ],
   "source": [
    "plt.figure(figsize=(12, 8))  # Increase figure size for better readability\n",
    "sns.countplot(data=df, x='Property_type', hue='Room_type', palette='Set2', dodge=True)\n",
    "plt.title('Distribution of Room Types by Property Type')\n",
    "plt.xlabel('Property Type')\n",
    "plt.ylabel('Count')\n",
    "plt.xticks(rotation=45, ha='right')  # Rotate x-axis labels for better readability\n",
    "plt.legend(title='Room Type', bbox_to_anchor=(1.05, 1), loc='upper left')  # Adjust legend position\n",
    "plt.tight_layout()  # Adjust layout to prevent overlapping\n",
    "plt.show()"
   ]
  },
  {
   "cell_type": "code",
   "execution_count": 37,
   "metadata": {},
   "outputs": [
    {
     "data": {
      "image/png": "[encoded data removed]",
      "text/plain": [
       "<Figure size 1000x600 with 1 Axes>"
      ]
     },
     "metadata": {},
     "output_type": "display_data"
    }
   ],
   "source": [
    "# Select the main two columns for correlation analysis\n",
    "main_columns = ['Price', 'Accommodates']  # Replace with your main columns\n",
    "\n",
    "# Extract the main columns from the DataFrame\n",
    "main_df = df[main_columns]\n",
    "\n",
    "# Group by 'Accommodates' and calculate the mean price for each group\n",
    "mean_price_by_accommodates = main_df.groupby('Accommodates')['Price'].mean().reset_index()\n",
    "\n",
    "# Bar chart showing the mean price for each value of 'Accommodates' with a different color palette\n",
    "plt.figure(figsize=(10, 6))\n",
    "sns.barplot(x='Accommodates', y='Price', data=mean_price_by_accommodates, hue='Accommodates', dodge=False, palette='coolwarm')\n",
    "plt.title('Mean Price by Accommodates')\n",
    "plt.xlabel('Accommodates')\n",
    "plt.ylabel('Mean Price')\n",
    "plt.legend(title=None)\n",
    "plt.show()\n"
   ]
  },
  {
   "cell_type": "code",
   "execution_count": 40,
   "metadata": {},
   "outputs": [
    {
     "data": {
      "application/vnd.plotly.v1+json": {
       "config": {
        "plotlyServerURL": "https://plot.ly"
       },
       "data": [
        {
         "hovertemplate": "Country=%{x}<br>Price=%{marker.size}<extra></extra>",
         "legendgroup": "Australia",
         "marker": {
          "color": "#636efa",
          "opacity": 1,
          "size": [
           197.8065573770492
          ],
          "sizemode": "area",
          "sizeref": 0.6316625850340136,
          "symbol": "circle"
         },
         "mode": "markers",
         "name": "Australia",
         "orientation": "v",
         "showlegend": true,
         "type": "scatter",
         "x": [
          "Australia"
         ],
         "xaxis": "x",
         "y": [
          197.8065573770492
         ],
         "yaxis": "y"
        },
        {
         "hovertemplate": "Country=%{x}<br>Price=%{marker.size}<extra></extra>",
         "legendgroup": "Brazil",
         "marker": {
          "color": "#EF553B",
          "opacity": 1,
          "size": [
           525.3465346534654
          ],
          "sizemode": "area",
          "sizeref": 0.6316625850340136,
          "symbol": "circle"
         },
         "mode": "markers",
         "name": "Brazil",
         "orientation": "v",
         "showlegend": true,
         "type": "scatter",
         "x": [
          "Brazil"
         ],
         "xaxis": "x",
         "y": [
          525.3465346534654
         ],
         "yaxis": "y"
        },
        {
         "hovertemplate": "Country=%{x}<br>Price=%{marker.size}<extra></extra>",
         "legendgroup": "Canada",
         "marker": {
          "color": "#00cc96",
          "opacity": 1,
          "size": [
           100.11710323574731
          ],
          "sizemode": "area",
          "sizeref": 0.6316625850340136,
          "symbol": "circle"
         },
         "mode": "markers",
         "name": "Canada",
         "orientation": "v",
         "showlegend": true,
         "type": "scatter",
         "x": [
          "Canada"
         ],
         "xaxis": "x",
         "y": [
          100.11710323574731
         ],
         "yaxis": "y"
        },
        {
         "hovertemplate": "Country=%{x}<br>Price=%{marker.size}<extra></extra>",
         "legendgroup": "China",
         "marker": {
          "color": "#ab63fa",
          "opacity": 1,
          "size": [
           405.36842105263156
          ],
          "sizemode": "area",
          "sizeref": 0.6316625850340136,
          "symbol": "circle"
         },
         "mode": "markers",
         "name": "China",
         "orientation": "v",
         "showlegend": true,
         "type": "scatter",
         "x": [
          "China"
         ],
         "xaxis": "x",
         "y": [
          405.36842105263156
         ],
         "yaxis": "y"
        },
        {
         "hovertemplate": "Country=%{x}<br>Price=%{marker.size}<extra></extra>",
         "legendgroup": "Hong Kong",
         "marker": {
          "color": "#FFA15A",
          "opacity": 1,
          "size": [
           773.7866666666666
          ],
          "sizemode": "area",
          "sizeref": 0.6316625850340136,
          "symbol": "circle"
         },
         "mode": "markers",
         "name": "Hong Kong",
         "orientation": "v",
         "showlegend": true,
         "type": "scatter",
         "x": [
          "Hong Kong"
         ],
         "xaxis": "x",
         "y": [
          773.7866666666666
         ],
         "yaxis": "y"
        },
        {
         "hovertemplate": "Country=%{x}<br>Price=%{marker.size}<extra></extra>",
         "legendgroup": "Portugal",
         "marker": {
          "color": "#19d3f3",
          "opacity": 1,
          "size": [
           69.18198198198198
          ],
          "sizemode": "area",
          "sizeref": 0.6316625850340136,
          "symbol": "circle"
         },
         "mode": "markers",
         "name": "Portugal",
         "orientation": "v",
         "showlegend": true,
         "type": "scatter",
         "x": [
          "Portugal"
         ],
         "xaxis": "x",
         "y": [
          69.18198198198198
         ],
         "yaxis": "y"
        },
        {
         "hovertemplate": "Country=%{x}<br>Price=%{marker.size}<extra></extra>",
         "legendgroup": "Spain",
         "marker": {
          "color": "#FF6692",
          "opacity": 1,
          "size": [
           100.826224328594
          ],
          "sizemode": "area",
          "sizeref": 0.6316625850340136,
          "symbol": "circle"
         },
         "mode": "markers",
         "name": "Spain",
         "orientation": "v",
         "showlegend": true,
         "type": "scatter",
         "x": [
          "Spain"
         ],
         "xaxis": "x",
         "y": [
          100.826224328594
         ],
         "yaxis": "y"
        },
        {
         "hovertemplate": "Country=%{x}<br>Price=%{marker.size}<extra></extra>",
         "legendgroup": "Turkey",
         "marker": {
          "color": "#B6E880",
          "opacity": 1,
          "size": [
           368.1467473524962
          ],
          "sizemode": "area",
          "sizeref": 0.6316625850340136,
          "symbol": "circle"
         },
         "mode": "markers",
         "name": "Turkey",
         "orientation": "v",
         "showlegend": true,
         "type": "scatter",
         "x": [
          "Turkey"
         ],
         "xaxis": "x",
         "y": [
          368.1467473524962
         ],
         "yaxis": "y"
        },
        {
         "hovertemplate": "Country=%{x}<br>Price=%{marker.size}<extra></extra>",
         "legendgroup": "United States",
         "marker": {
          "color": "#FF97FF",
          "opacity": 1,
          "size": [
           185.76923076923077
          ],
          "sizemode": "area",
          "sizeref": 0.6316625850340136,
          "symbol": "circle"
         },
         "mode": "markers",
         "name": "United States",
         "orientation": "v",
         "showlegend": true,
         "type": "scatter",
         "x": [
          "United States"
         ],
         "xaxis": "x",
         "y": [
          185.76923076923077
         ],
         "yaxis": "y"
        }
       ],
       "layout": {
        "legend": {
         "itemsizing": "constant",
         "title": {
          "text": "Country"
         },
         "tracegroupgap": 0
        },
        "template": {
         "data": {
          "bar": [
           {
            "error_x": {
             "color": "#2a3f5f"
            },
            "error_y": {
             "color": "#2a3f5f"
            },
            "marker": {
             "line": {
              "color": "#E5ECF6",
              "width": 0.5
             },
             "pattern": {
              "fillmode": "overlay",
              "size": 10,
              "solidity": 0.2
             }
            },
            "type": "bar"
           }
          ],
          "barpolar": [
           {
            "marker": {
             "line": {
              "color": "#E5ECF6",
              "width": 0.5
             },
             "pattern": {
              "fillmode": "overlay",
              "size": 10,
              "solidity": 0.2
             }
            },
            "type": "barpolar"
           }
          ],
          "carpet": [
           {
            "aaxis": {
             "endlinecolor": "#2a3f5f",
             "gridcolor": "white",
             "linecolor": "white",
             "minorgridcolor": "white",
             "startlinecolor": "#2a3f5f"
            },
            "baxis": {
             "endlinecolor": "#2a3f5f",
             "gridcolor": "white",
             "linecolor": "white",
             "minorgridcolor": "white",
             "startlinecolor": "#2a3f5f"
            },
            "type": "carpet"
           }
          ],
          "choropleth": [
           {
            "colorbar": {
             "outlinewidth": 0,
             "ticks": ""
            },
            "type": "choropleth"
           }
          ],
          "contour": [
           {
            "colorbar": {
             "outlinewidth": 0,
             "ticks": ""
            },
            "colorscale": [
             [
              0,
              "#0d0887"
             ],
             [
              0.1111111111111111,
              "#46039f"
             ],
             [
              0.2222222222222222,
              "#7201a8"
             ],
             [
              0.3333333333333333,
              "#9c179e"
             ],
             [
              0.4444444444444444,
              "#bd3786"
             ],
             [
              0.5555555555555556,
              "#d8576b"
             ],
             [
              0.6666666666666666,
              "#ed7953"
             ],
             [
              0.7777777777777778,
              "#fb9f3a"
             ],
             [
              0.8888888888888888,
              "#fdca26"
             ],
             [
              1,
              "#f0f921"
             ]
            ],
            "type": "contour"
           }
          ],
          "contourcarpet": [
           {
            "colorbar": {
             "outlinewidth": 0,
             "ticks": ""
            },
            "type": "contourcarpet"
           }
          ],
          "heatmap": [
           {
            "colorbar": {
             "outlinewidth": 0,
             "ticks": ""
            },
            "colorscale": [
             [
              0,
              "#0d0887"
             ],
             [
              0.1111111111111111,
              "#46039f"
             ],
             [
              0.2222222222222222,
              "#7201a8"
             ],
             [
              0.3333333333333333,
              "#9c179e"
             ],
             [
              0.4444444444444444,
              "#bd3786"
             ],
             [
              0.5555555555555556,
              "#d8576b"
             ],
             [
              0.6666666666666666,
              "#ed7953"
             ],
             [
              0.7777777777777778,
              "#fb9f3a"
             ],
             [
              0.8888888888888888,
              "#fdca26"
             ],
             [
              1,
              "#f0f921"
             ]
            ],
            "type": "heatmap"
           }
          ],
          "heatmapgl": [
           {
            "colorbar": {
             "outlinewidth": 0,
             "ticks": ""
            },
            "colorscale": [
             [
              0,
              "#0d0887"
             ],
             [
              0.1111111111111111,
              "#46039f"
             ],
             [
              0.2222222222222222,
              "#7201a8"
             ],
             [
              0.3333333333333333,
              "#9c179e"
             ],
             [
              0.4444444444444444,
              "#bd3786"
             ],
             [
              0.5555555555555556,
              "#d8576b"
             ],
             [
              0.6666666666666666,
              "#ed7953"
             ],
             [
              0.7777777777777778,
              "#fb9f3a"
             ],
             [
              0.8888888888888888,
              "#fdca26"
             ],
             [
              1,
              "#f0f921"
             ]
            ],
            "type": "heatmapgl"
           }
          ],
          "histogram": [
           {
            "marker": {
             "pattern": {
              "fillmode": "overlay",
              "size": 10,
              "solidity": 0.2
             }
            },
            "type": "histogram"
           }
          ],
          "histogram2d": [
           {
            "colorbar": {
             "outlinewidth": 0,
             "ticks": ""
            },
            "colorscale": [
             [
              0,
              "#0d0887"
             ],
             [
              0.1111111111111111,
              "#46039f"
             ],
             [
              0.2222222222222222,
              "#7201a8"
             ],
             [
              0.3333333333333333,
              "#9c179e"
             ],
             [
              0.4444444444444444,
              "#bd3786"
             ],
             [
              0.5555555555555556,
              "#d8576b"
             ],
             [
              0.6666666666666666,
              "#ed7953"
             ],
             [
              0.7777777777777778,
              "#fb9f3a"
             ],
             [
              0.8888888888888888,
              "#fdca26"
             ],
             [
              1,
              "#f0f921"
             ]
            ],
            "type": "histogram2d"
           }
          ],
          "histogram2dcontour": [
           {
            "colorbar": {
             "outlinewidth": 0,
             "ticks": ""
            },
            "colorscale": [
             [
              0,
              "#0d0887"
             ],
             [
              0.1111111111111111,
              "#46039f"
             ],
             [
              0.2222222222222222,
              "#7201a8"
             ],
             [
              0.3333333333333333,
              "#9c179e"
             ],
             [
              0.4444444444444444,
              "#bd3786"
             ],
             [
              0.5555555555555556,
              "#d8576b"
             ],
             [
              0.6666666666666666,
              "#ed7953"
             ],
             [
              0.7777777777777778,
              "#fb9f3a"
             ],
             [
              0.8888888888888888,
              "#fdca26"
             ],
             [
              1,
              "#f0f921"
             ]
            ],
            "type": "histogram2dcontour"
           }
          ],
          "mesh3d": [
           {
            "colorbar": {
             "outlinewidth": 0,
             "ticks": ""
            },
            "type": "mesh3d"
           }
          ],
          "parcoords": [
           {
            "line": {
             "colorbar": {
              "outlinewidth": 0,
              "ticks": ""
             }
            },
            "type": "parcoords"
           }
          ],
          "pie": [
           {
            "automargin": true,
            "type": "pie"
           }
          ],
          "scatter": [
           {
            "fillpattern": {
             "fillmode": "overlay",
             "size": 10,
             "solidity": 0.2
            },
            "type": "scatter"
           }
          ],
          "scatter3d": [
           {
            "line": {
             "colorbar": {
              "outlinewidth": 0,
              "ticks": ""
             }
            },
            "marker": {
             "colorbar": {
              "outlinewidth": 0,
              "ticks": ""
             }
            },
            "type": "scatter3d"
           }
          ],
          "scattercarpet": [
           {
            "marker": {
             "colorbar": {
              "outlinewidth": 0,
              "ticks": ""
             }
            },
            "type": "scattercarpet"
           }
          ],
          "scattergeo": [
           {
            "marker": {
             "colorbar": {
              "outlinewidth": 0,
              "ticks": ""
             }
            },
            "type": "scattergeo"
           }
          ],
          "scattergl": [
           {
            "marker": {
             "colorbar": {
              "outlinewidth": 0,
              "ticks": ""
             }
            },
            "type": "scattergl"
           }
          ],
          "scattermapbox": [
           {
            "marker": {
             "colorbar": {
              "outlinewidth": 0,
              "ticks": ""
             }
            },
            "type": "scattermapbox"
           }
          ],
          "scatterpolar": [
           {
            "marker": {
             "colorbar": {
              "outlinewidth": 0,
              "ticks": ""
             }
            },
            "type": "scatterpolar"
           }
          ],
          "scatterpolargl": [
           {
            "marker": {
             "colorbar": {
              "outlinewidth": 0,
              "ticks": ""
             }
            },
            "type": "scatterpolargl"
           }
          ],
          "scatterternary": [
           {
            "marker": {
             "colorbar": {
              "outlinewidth": 0,
              "ticks": ""
             }
            },
            "type": "scatterternary"
           }
          ],
          "surface": [
           {
            "colorbar": {
             "outlinewidth": 0,
             "ticks": ""
            },
            "colorscale": [
             [
              0,
              "#0d0887"
             ],
             [
              0.1111111111111111,
              "#46039f"
             ],
             [
              0.2222222222222222,
              "#7201a8"
             ],
             [
              0.3333333333333333,
              "#9c179e"
             ],
             [
              0.4444444444444444,
              "#bd3786"
             ],
             [
              0.5555555555555556,
              "#d8576b"
             ],
             [
              0.6666666666666666,
              "#ed7953"
             ],
             [
              0.7777777777777778,
              "#fb9f3a"
             ],
             [
              0.8888888888888888,
              "#fdca26"
             ],
             [
              1,
              "#f0f921"
             ]
            ],
            "type": "surface"
           }
          ],
          "table": [
           {
            "cells": {
             "fill": {
              "color": "#EBF0F8"
             },
             "line": {
              "color": "white"
             }
            },
            "header": {
             "fill": {
              "color": "#C8D4E3"
             },
             "line": {
              "color": "white"
             }
            },
            "type": "table"
           }
          ]
         },
         "layout": {
          "annotationdefaults": {
           "arrowcolor": "#2a3f5f",
           "arrowhead": 0,
           "arrowwidth": 1
          },
          "autotypenumbers": "strict",
          "coloraxis": {
           "colorbar": {
            "outlinewidth": 0,
            "ticks": ""
           }
          },
          "colorscale": {
           "diverging": [
            [
             0,
             "#8e0152"
            ],
            [
             0.1,
             "#c51b7d"
            ],
            [
             0.2,
             "#de77ae"
            ],
            [
             0.3,
             "#f1b6da"
            ],
            [
             0.4,
             "#fde0ef"
            ],
            [
             0.5,
             "#f7f7f7"
            ],
            [
             0.6,
             "#e6f5d0"
            ],
            [
             0.7,
             "#b8e186"
            ],
            [
             0.8,
             "#7fbc41"
            ],
            [
             0.9,
             "#4d9221"
            ],
            [
             1,
             "#276419"
            ]
           ],
           "sequential": [
            [
             0,
             "#0d0887"
            ],
            [
             0.1111111111111111,
             "#46039f"
            ],
            [
             0.2222222222222222,
             "#7201a8"
            ],
            [
             0.3333333333333333,
             "#9c179e"
            ],
            [
             0.4444444444444444,
             "#bd3786"
            ],
            [
             0.5555555555555556,
             "#d8576b"
            ],
            [
             0.6666666666666666,
             "#ed7953"
            ],
            [
             0.7777777777777778,
             "#fb9f3a"
            ],
            [
             0.8888888888888888,
             "#fdca26"
            ],
            [
             1,
             "#f0f921"
            ]
           ],
           "sequentialminus": [
            [
             0,
             "#0d0887"
            ],
            [
             0.1111111111111111,
             "#46039f"
            ],
            [
             0.2222222222222222,
             "#7201a8"
            ],
            [
             0.3333333333333333,
             "#9c179e"
            ],
            [
             0.4444444444444444,
             "#bd3786"
            ],
            [
             0.5555555555555556,
             "#d8576b"
            ],
            [
             0.6666666666666666,
             "#ed7953"
            ],
            [
             0.7777777777777778,
             "#fb9f3a"
            ],
            [
             0.8888888888888888,
             "#fdca26"
            ],
            [
             1,
             "#f0f921"
            ]
           ]
          },
          "colorway": [
           "#636efa",
           "#EF553B",
           "#00cc96",
           "#ab63fa",
           "#FFA15A",
           "#19d3f3",
           "#FF6692",
           "#B6E880",
           "#FF97FF",
           "#FECB52"
          ],
          "font": {
           "color": "#2a3f5f"
          },
          "geo": {
           "bgcolor": "white",
           "lakecolor": "white",
           "landcolor": "#E5ECF6",
           "showlakes": true,
           "showland": true,
           "subunitcolor": "white"
          },
          "hoverlabel": {
           "align": "left"
          },
          "hovermode": "closest",
          "mapbox": {
           "style": "light"
          },
          "paper_bgcolor": "white",
          "plot_bgcolor": "#E5ECF6",
          "polar": {
           "angularaxis": {
            "gridcolor": "white",
            "linecolor": "white",
            "ticks": ""
           },
           "bgcolor": "#E5ECF6",
           "radialaxis": {
            "gridcolor": "white",
            "linecolor": "white",
            "ticks": ""
           }
          },
          "scene": {
           "xaxis": {
            "backgroundcolor": "#E5ECF6",
            "gridcolor": "white",
            "gridwidth": 2,
            "linecolor": "white",
            "showbackground": true,
            "ticks": "",
            "zerolinecolor": "white"
           },
           "yaxis": {
            "backgroundcolor": "#E5ECF6",
            "gridcolor": "white",
            "gridwidth": 2,
            "linecolor": "white",
            "showbackground": true,
            "ticks": "",
            "zerolinecolor": "white"
           },
           "zaxis": {
            "backgroundcolor": "#E5ECF6",
            "gridcolor": "white",
            "gridwidth": 2,
            "linecolor": "white",
            "showbackground": true,
            "ticks": "",
            "zerolinecolor": "white"
           }
          },
          "shapedefaults": {
           "line": {
            "color": "#2a3f5f"
           }
          },
          "ternary": {
           "aaxis": {
            "gridcolor": "white",
            "linecolor": "white",
            "ticks": ""
           },
           "baxis": {
            "gridcolor": "white",
            "linecolor": "white",
            "ticks": ""
           },
           "bgcolor": "#E5ECF6",
           "caxis": {
            "gridcolor": "white",
            "linecolor": "white",
            "ticks": ""
           }
          },
          "title": {
           "x": 0.05
          },
          "xaxis": {
           "automargin": true,
           "gridcolor": "white",
           "linecolor": "white",
           "ticks": "",
           "title": {
            "standoff": 15
           },
           "zerolinecolor": "white",
           "zerolinewidth": 2
          },
          "yaxis": {
           "automargin": true,
           "gridcolor": "white",
           "linecolor": "white",
           "ticks": "",
           "title": {
            "standoff": 15
           },
           "zerolinecolor": "white",
           "zerolinewidth": 2
          }
         }
        },
        "title": {
         "text": "Avg Listing Price in each Countries"
        },
        "xaxis": {
         "anchor": "y",
         "categoryarray": [
          "Australia",
          "Brazil",
          "Canada",
          "China",
          "Hong Kong",
          "Portugal",
          "Spain",
          "Turkey",
          "United States"
         ],
         "categoryorder": "array",
         "domain": [
          0,
          1
         ],
         "title": {
          "text": "Country"
         }
        },
        "yaxis": {
         "anchor": "x",
         "domain": [
          0,
          1
         ],
         "title": {
          "text": "Price"
         }
        }
       }
      }
     },
     "metadata": {},
     "output_type": "display_data"
    }
   ],
   "source": [
    "country_df = df.groupby('Country',as_index=False)['Price'].mean()\n",
    "fig = px.scatter(data_frame=country_df,\n",
    "           x='Country',y='Price',\n",
    "           color='Country',\n",
    "           size='Price',\n",
    "           opacity=1,\n",
    "           size_max=35,\n",
    "           title='Avg Listing Price in each Countries')\n",
    "fig.show()"
   ]
  },
  {
   "cell_type": "code",
   "execution_count": 41,
   "metadata": {},
   "outputs": [
    {
     "data": {
      "application/vnd.plotly.v1+json": {
       "config": {
        "plotlyServerURL": "https://plot.ly"
       },
       "data": [
        {
         "alignmentgroup": "True",
         "hovertemplate": "Room_type=%{x}<br>Price=%{marker.color}<extra></extra>",
         "legendgroup": "",
         "marker": {
          "color": [
           212.2965204236006,
           314.859845227859,
           349.5903614457831
          ],
          "coloraxis": "coloraxis",
          "pattern": {
           "shape": ""
          }
         },
         "name": "",
         "offsetgroup": "",
         "orientation": "v",
         "showlegend": false,
         "textposition": "auto",
         "type": "bar",
         "x": [
          "Private room",
          "Entire home/apt",
          "Shared room"
         ],
         "xaxis": "x",
         "y": [
          212.2965204236006,
          314.859845227859,
          349.5903614457831
         ],
         "yaxis": "y"
        }
       ],
       "layout": {
        "barmode": "relative",
        "coloraxis": {
         "colorbar": {
          "title": {
           "text": "Price"
          }
         },
         "colorscale": [
          [
           0,
           "#0d0887"
          ],
          [
           0.1111111111111111,
           "#46039f"
          ],
          [
           0.2222222222222222,
           "#7201a8"
          ],
          [
           0.3333333333333333,
           "#9c179e"
          ],
          [
           0.4444444444444444,
           "#bd3786"
          ],
          [
           0.5555555555555556,
           "#d8576b"
          ],
          [
           0.6666666666666666,
           "#ed7953"
          ],
          [
           0.7777777777777778,
           "#fb9f3a"
          ],
          [
           0.8888888888888888,
           "#fdca26"
          ],
          [
           1,
           "#f0f921"
          ]
         ]
        },
        "legend": {
         "tracegroupgap": 0
        },
        "margin": {
         "t": 60
        },
        "template": {
         "data": {
          "bar": [
           {
            "error_x": {
             "color": "#2a3f5f"
            },
            "error_y": {
             "color": "#2a3f5f"
            },
            "marker": {
             "line": {
              "color": "#E5ECF6",
              "width": 0.5
             },
             "pattern": {
              "fillmode": "overlay",
              "size": 10,
              "solidity": 0.2
             }
            },
            "type": "bar"
           }
          ],
          "barpolar": [
           {
            "marker": {
             "line": {
              "color": "#E5ECF6",
              "width": 0.5
             },
             "pattern": {
              "fillmode": "overlay",
              "size": 10,
              "solidity": 0.2
             }
            },
            "type": "barpolar"
           }
          ],
          "carpet": [
           {
            "aaxis": {
             "endlinecolor": "#2a3f5f",
             "gridcolor": "white",
             "linecolor": "white",
             "minorgridcolor": "white",
             "startlinecolor": "#2a3f5f"
            },
            "baxis": {
             "endlinecolor": "#2a3f5f",
             "gridcolor": "white",
             "linecolor": "white",
             "minorgridcolor": "white",
             "startlinecolor": "#2a3f5f"
            },
            "type": "carpet"
           }
          ],
          "choropleth": [
           {
            "colorbar": {
             "outlinewidth": 0,
             "ticks": ""
            },
            "type": "choropleth"
           }
          ],
          "contour": [
           {
            "colorbar": {
             "outlinewidth": 0,
             "ticks": ""
            },
            "colorscale": [
             [
              0,
              "#0d0887"
             ],
             [
              0.1111111111111111,
              "#46039f"
             ],
             [
              0.2222222222222222,
              "#7201a8"
             ],
             [
              0.3333333333333333,
              "#9c179e"
             ],
             [
              0.4444444444444444,
              "#bd3786"
             ],
             [
              0.5555555555555556,
              "#d8576b"
             ],
             [
              0.6666666666666666,
              "#ed7953"
             ],
             [
              0.7777777777777778,
              "#fb9f3a"
             ],
             [
              0.8888888888888888,
              "#fdca26"
             ],
             [
              1,
              "#f0f921"
             ]
            ],
            "type": "contour"
           }
          ],
          "contourcarpet": [
           {
            "colorbar": {
             "outlinewidth": 0,
             "ticks": ""
            },
            "type": "contourcarpet"
           }
          ],
          "heatmap": [
           {
            "colorbar": {
             "outlinewidth": 0,
             "ticks": ""
            },
            "colorscale": [
             [
              0,
              "#0d0887"
             ],
             [
              0.1111111111111111,
              "#46039f"
             ],
             [
              0.2222222222222222,
              "#7201a8"
             ],
             [
              0.3333333333333333,
              "#9c179e"
             ],
             [
              0.4444444444444444,
              "#bd3786"
             ],
             [
              0.5555555555555556,
              "#d8576b"
             ],
             [
              0.6666666666666666,
              "#ed7953"
             ],
             [
              0.7777777777777778,
              "#fb9f3a"
             ],
             [
              0.8888888888888888,
              "#fdca26"
             ],
             [
              1,
              "#f0f921"
             ]
            ],
            "type": "heatmap"
           }
          ],
          "heatmapgl": [
           {
            "colorbar": {
             "outlinewidth": 0,
             "ticks": ""
            },
            "colorscale": [
             [
              0,
              "#0d0887"
             ],
             [
              0.1111111111111111,
              "#46039f"
             ],
             [
              0.2222222222222222,
              "#7201a8"
             ],
             [
              0.3333333333333333,
              "#9c179e"
             ],
             [
              0.4444444444444444,
              "#bd3786"
             ],
             [
              0.5555555555555556,
              "#d8576b"
             ],
             [
              0.6666666666666666,
              "#ed7953"
             ],
             [
              0.7777777777777778,
              "#fb9f3a"
             ],
             [
              0.8888888888888888,
              "#fdca26"
             ],
             [
              1,
              "#f0f921"
             ]
            ],
            "type": "heatmapgl"
           }
          ],
          "histogram": [
           {
            "marker": {
             "pattern": {
              "fillmode": "overlay",
              "size": 10,
              "solidity": 0.2
             }
            },
            "type": "histogram"
           }
          ],
          "histogram2d": [
           {
            "colorbar": {
             "outlinewidth": 0,
             "ticks": ""
            },
            "colorscale": [
             [
              0,
              "#0d0887"
             ],
             [
              0.1111111111111111,
              "#46039f"
             ],
             [
              0.2222222222222222,
              "#7201a8"
             ],
             [
              0.3333333333333333,
              "#9c179e"
             ],
             [
              0.4444444444444444,
              "#bd3786"
             ],
             [
              0.5555555555555556,
              "#d8576b"
             ],
             [
              0.6666666666666666,
              "#ed7953"
             ],
             [
              0.7777777777777778,
              "#fb9f3a"
             ],
             [
              0.8888888888888888,
              "#fdca26"
             ],
             [
              1,
              "#f0f921"
             ]
            ],
            "type": "histogram2d"
           }
          ],
          "histogram2dcontour": [
           {
            "colorbar": {
             "outlinewidth": 0,
             "ticks": ""
            },
            "colorscale": [
             [
              0,
              "#0d0887"
             ],
             [
              0.1111111111111111,
              "#46039f"
             ],
             [
              0.2222222222222222,
              "#7201a8"
             ],
             [
              0.3333333333333333,
              "#9c179e"
             ],
             [
              0.4444444444444444,
              "#bd3786"
             ],
             [
              0.5555555555555556,
              "#d8576b"
             ],
             [
              0.6666666666666666,
              "#ed7953"
             ],
             [
              0.7777777777777778,
              "#fb9f3a"
             ],
             [
              0.8888888888888888,
              "#fdca26"
             ],
             [
              1,
              "#f0f921"
             ]
            ],
            "type": "histogram2dcontour"
           }
          ],
          "mesh3d": [
           {
            "colorbar": {
             "outlinewidth": 0,
             "ticks": ""
            },
            "type": "mesh3d"
           }
          ],
          "parcoords": [
           {
            "line": {
             "colorbar": {
              "outlinewidth": 0,
              "ticks": ""
             }
            },
            "type": "parcoords"
           }
          ],
          "pie": [
           {
            "automargin": true,
            "type": "pie"
           }
          ],
          "scatter": [
           {
            "fillpattern": {
             "fillmode": "overlay",
             "size": 10,
             "solidity": 0.2
            },
            "type": "scatter"
           }
          ],
          "scatter3d": [
           {
            "line": {
             "colorbar": {
              "outlinewidth": 0,
              "ticks": ""
             }
            },
            "marker": {
             "colorbar": {
              "outlinewidth": 0,
              "ticks": ""
             }
            },
            "type": "scatter3d"
           }
          ],
          "scattercarpet": [
           {
            "marker": {
             "colorbar": {
              "outlinewidth": 0,
              "ticks": ""
             }
            },
            "type": "scattercarpet"
           }
          ],
          "scattergeo": [
           {
            "marker": {
             "colorbar": {
              "outlinewidth": 0,
              "ticks": ""
             }
            },
            "type": "scattergeo"
           }
          ],
          "scattergl": [
           {
            "marker": {
             "colorbar": {
              "outlinewidth": 0,
              "ticks": ""
             }
            },
            "type": "scattergl"
           }
          ],
          "scattermapbox": [
           {
            "marker": {
             "colorbar": {
              "outlinewidth": 0,
              "ticks": ""
             }
            },
            "type": "scattermapbox"
           }
          ],
          "scatterpolar": [
           {
            "marker": {
             "colorbar": {
              "outlinewidth": 0,
              "ticks": ""
             }
            },
            "type": "scatterpolar"
           }
          ],
          "scatterpolargl": [
           {
            "marker": {
             "colorbar": {
              "outlinewidth": 0,
              "ticks": ""
             }
            },
            "type": "scatterpolargl"
           }
          ],
          "scatterternary": [
           {
            "marker": {
             "colorbar": {
              "outlinewidth": 0,
              "ticks": ""
             }
            },
            "type": "scatterternary"
           }
          ],
          "surface": [
           {
            "colorbar": {
             "outlinewidth": 0,
             "ticks": ""
            },
            "colorscale": [
             [
              0,
              "#0d0887"
             ],
             [
              0.1111111111111111,
              "#46039f"
             ],
             [
              0.2222222222222222,
              "#7201a8"
             ],
             [
              0.3333333333333333,
              "#9c179e"
             ],
             [
              0.4444444444444444,
              "#bd3786"
             ],
             [
              0.5555555555555556,
              "#d8576b"
             ],
             [
              0.6666666666666666,
              "#ed7953"
             ],
             [
              0.7777777777777778,
              "#fb9f3a"
             ],
             [
              0.8888888888888888,
              "#fdca26"
             ],
             [
              1,
              "#f0f921"
             ]
            ],
            "type": "surface"
           }
          ],
          "table": [
           {
            "cells": {
             "fill": {
              "color": "#EBF0F8"
             },
             "line": {
              "color": "white"
             }
            },
            "header": {
             "fill": {
              "color": "#C8D4E3"
             },
             "line": {
              "color": "white"
             }
            },
            "type": "table"
           }
          ]
         },
         "layout": {
          "annotationdefaults": {
           "arrowcolor": "#2a3f5f",
           "arrowhead": 0,
           "arrowwidth": 1
          },
          "autotypenumbers": "strict",
          "coloraxis": {
           "colorbar": {
            "outlinewidth": 0,
            "ticks": ""
           }
          },
          "colorscale": {
           "diverging": [
            [
             0,
             "#8e0152"
            ],
            [
             0.1,
             "#c51b7d"
            ],
            [
             0.2,
             "#de77ae"
            ],
            [
             0.3,
             "#f1b6da"
            ],
            [
             0.4,
             "#fde0ef"
            ],
            [
             0.5,
             "#f7f7f7"
            ],
            [
             0.6,
             "#e6f5d0"
            ],
            [
             0.7,
             "#b8e186"
            ],
            [
             0.8,
             "#7fbc41"
            ],
            [
             0.9,
             "#4d9221"
            ],
            [
             1,
             "#276419"
            ]
           ],
           "sequential": [
            [
             0,
             "#0d0887"
            ],
            [
             0.1111111111111111,
             "#46039f"
            ],
            [
             0.2222222222222222,
             "#7201a8"
            ],
            [
             0.3333333333333333,
             "#9c179e"
            ],
            [
             0.4444444444444444,
             "#bd3786"
            ],
            [
             0.5555555555555556,
             "#d8576b"
            ],
            [
             0.6666666666666666,
             "#ed7953"
            ],
            [
             0.7777777777777778,
             "#fb9f3a"
            ],
            [
             0.8888888888888888,
             "#fdca26"
            ],
            [
             1,
             "#f0f921"
            ]
           ],
           "sequentialminus": [
            [
             0,
             "#0d0887"
            ],
            [
             0.1111111111111111,
             "#46039f"
            ],
            [
             0.2222222222222222,
             "#7201a8"
            ],
            [
             0.3333333333333333,
             "#9c179e"
            ],
            [
             0.4444444444444444,
             "#bd3786"
            ],
            [
             0.5555555555555556,
             "#d8576b"
            ],
            [
             0.6666666666666666,
             "#ed7953"
            ],
            [
             0.7777777777777778,
             "#fb9f3a"
            ],
            [
             0.8888888888888888,
             "#fdca26"
            ],
            [
             1,
             "#f0f921"
            ]
           ]
          },
          "colorway": [
           "#636efa",
           "#EF553B",
           "#00cc96",
           "#ab63fa",
           "#FFA15A",
           "#19d3f3",
           "#FF6692",
           "#B6E880",
           "#FF97FF",
           "#FECB52"
          ],
          "font": {
           "color": "#2a3f5f"
          },
          "geo": {
           "bgcolor": "white",
           "lakecolor": "white",
           "landcolor": "#E5ECF6",
           "showlakes": true,
           "showland": true,
           "subunitcolor": "white"
          },
          "hoverlabel": {
           "align": "left"
          },
          "hovermode": "closest",
          "mapbox": {
           "style": "light"
          },
          "paper_bgcolor": "white",
          "plot_bgcolor": "#E5ECF6",
          "polar": {
           "angularaxis": {
            "gridcolor": "white",
            "linecolor": "white",
            "ticks": ""
           },
           "bgcolor": "#E5ECF6",
           "radialaxis": {
            "gridcolor": "white",
            "linecolor": "white",
            "ticks": ""
           }
          },
          "scene": {
           "xaxis": {
            "backgroundcolor": "#E5ECF6",
            "gridcolor": "white",
            "gridwidth": 2,
            "linecolor": "white",
            "showbackground": true,
            "ticks": "",
            "zerolinecolor": "white"
           },
           "yaxis": {
            "backgroundcolor": "#E5ECF6",
            "gridcolor": "white",
            "gridwidth": 2,
            "linecolor": "white",
            "showbackground": true,
            "ticks": "",
            "zerolinecolor": "white"
           },
           "zaxis": {
            "backgroundcolor": "#E5ECF6",
            "gridcolor": "white",
            "gridwidth": 2,
            "linecolor": "white",
            "showbackground": true,
            "ticks": "",
            "zerolinecolor": "white"
           }
          },
          "shapedefaults": {
           "line": {
            "color": "#2a3f5f"
           }
          },
          "ternary": {
           "aaxis": {
            "gridcolor": "white",
            "linecolor": "white",
            "ticks": ""
           },
           "baxis": {
            "gridcolor": "white",
            "linecolor": "white",
            "ticks": ""
           },
           "bgcolor": "#E5ECF6",
           "caxis": {
            "gridcolor": "white",
            "linecolor": "white",
            "ticks": ""
           }
          },
          "title": {
           "x": 0.05
          },
          "xaxis": {
           "automargin": true,
           "gridcolor": "white",
           "linecolor": "white",
           "ticks": "",
           "title": {
            "standoff": 15
           },
           "zerolinecolor": "white",
           "zerolinewidth": 2
          },
          "yaxis": {
           "automargin": true,
           "gridcolor": "white",
           "linecolor": "white",
           "ticks": "",
           "title": {
            "standoff": 15
           },
           "zerolinecolor": "white",
           "zerolinewidth": 2
          }
         }
        },
        "title": {
         "text": "Mean Price by Room Type"
        },
        "xaxis": {
         "anchor": "y",
         "domain": [
          0,
          1
         ],
         "title": {
          "text": "Room Type"
         }
        },
        "yaxis": {
         "anchor": "x",
         "domain": [
          0,
          1
         ],
         "title": {
          "text": "Mean Price"
         }
        }
       }
      }
     },
     "metadata": {},
     "output_type": "display_data"
    }
   ],
   "source": [
    "# Group by 'Room_type' and calculate the mean price for each group\n",
    "pr_df = df.groupby('Room_type', as_index=False)['Price'].mean()\n",
    "\n",
    "# Sort values by mean price\n",
    "pr_df = pr_df.sort_values(by='Price')\n",
    "\n",
    "# Create a bar chart\n",
    "fig = px.bar(pr_df, x='Room_type', y='Price', color='Price')\n",
    "fig.update_layout(title='Mean Price by Room Type', xaxis_title='Room Type', yaxis_title='Mean Price')\n",
    "fig.show()\n"
   ]
  },
  {
   "cell_type": "code",
   "execution_count": 63,
   "metadata": {},
   "outputs": [
    {
     "name": "stdout",
     "output_type": "stream",
     "text": [
      "<mysql.connector.connection_cext.CMySQLConnection object at 0x000001DD1FA2F7A0>\n"
     ]
    }
   ],
   "source": [
    "#MySQL Connection:\n",
    "mydb = mysql.connector.connect(host=\"localhost\",user=\"root\",password=\"\")\n",
    "print(mydb)\n",
    "mycursor = mydb.cursor(buffered=True)\n"
   ]
  },
  {
   "cell_type": "code",
   "execution_count": 64,
   "metadata": {},
   "outputs": [],
   "source": [
    "#mycursor.execute('CREATE DATABASE airbnb')\n",
    "mycursor.execute('use airbnb')"
   ]
  },
  {
   "cell_type": "code",
   "execution_count": null,
   "metadata": {},
   "outputs": [],
   "source": [
    "# Create the table if it doesn't exist\n",
    "airbnb_data = \"\"\"\n",
    "CREATE TABLE IF NOT EXISTS airbnb_data (\n",
    "    Id INT AUTO_INCREMENT PRIMARY KEY,\n",
    "    Listing_url VARCHAR(255),\n",
    "    Name VARCHAR(255),\n",
    "    Description TEXT,\n",
    "    House_rules TEXT,\n",
    "    Property_type VARCHAR(255),\n",
    "    Room_type VARCHAR(255),\n",
    "    Bed_type VARCHAR(255),\n",
    "    Min_nights INT,\n",
    "    Max_nights INT,\n",
    "    Cancellation_policy VARCHAR(255),\n",
    "    Accommodates INT,\n",
    "    Total_bedrooms INT,\n",
    "    Total_beds INT,\n",
    "    Availability_365 INT,\n",
    "    Price FLOAT,\n",
    "    Security_deposit FLOAT,\n",
    "    Cleaning_fee FLOAT,\n",
    "    Extra_people FLOAT,\n",
    "    Guests_included INT,\n",
    "    No_of_reviews INT,\n",
    "    Review_scores FLOAT,\n",
    "    Amenities TEXT,\n",
    "    Host_id INT,\n",
    "    Host_name VARCHAR(255),\n",
    "    Street VARCHAR(255),\n",
    "    Country VARCHAR(255),\n",
    "    Country_code VARCHAR(255),\n",
    "    Location_type VARCHAR(255),\n",
    "    Longitude FLOAT,\n",
    "    Latitude FLOAT,\n",
    "    Is_location_exact VARCHAR(255)\n",
    ");\n",
    "\"\"\"\n",
    "mycursor.execute(airbnb_data)\n",
    "\n",
    "for row in df.itertuples():\n",
    "    # Replace NaN values with None before inserting into the database\n",
    "    row_data = [None if pd.isnull(value) else value for value in row[2:]]\n",
    "\n",
    "    insert_query = \"\"\"\n",
    "    INSERT INTO airbnb_data (\n",
    "        Listing_url, Name, Description, House_rules, Property_type, Room_type,\n",
    "        Bed_type, Min_nights, Max_nights, Cancellation_policy, Accommodates,\n",
    "        Total_bedrooms, Total_beds, Availability_365, Price, Security_deposit,\n",
    "        Cleaning_fee, Extra_people, Guests_included, No_of_reviews,\n",
    "        Review_scores, Amenities, Host_id, Host_name, Street, Country,\n",
    "        Country_code, Location_type, Longitude, Latitude, Is_location_exact\n",
    "    ) VALUES (%s, %s, %s, %s, %s, %s, %s, %s, %s, %s, %s, %s, %s, %s, %s, %s, %s, %s, %s, %s, %s, %s, %s, %s, %s, %s, %s, %s, %s, %s, %s, %s, %s)\n",
    "    \"\"\"\n",
    "\n",
    "    # Check if the number of values matches the number of columns\n",
    "    if len(row_data) == len(insert_query.split(\"VALUES\")[1].split(\",\")):\n",
    "        mycursor.execute(insert_query, row_data)\n",
    "    else:\n",
    "        print(f\"Skipping row with mismatched data: {row_data}\")\n"
   ]
  }
 ],
 "metadata": {
  "kernelspec": {
   "display_name": "Python 3",
   "language": "python",
   "name": "python3"
  },
  "language_info": {
   "codemirror_mode": {
    "name": "ipython",
    "version": 3
   },
   "file_extension": ".py",
   "mimetype": "text/x-python",
   "name": "python",
   "nbconvert_exporter": "python",
   "pygments_lexer": "ipython3",
   "version": "3.12.2"
  }
 },
 "nbformat": 4,
 "nbformat_minor": 2
}
